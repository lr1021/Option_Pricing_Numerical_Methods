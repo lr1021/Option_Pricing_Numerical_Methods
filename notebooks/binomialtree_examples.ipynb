{
 "cells": [
  {
   "cell_type": "markdown",
   "metadata": {},
   "source": [
    "# Demonstrating BinomialTree and Option Classes"
   ]
  },
  {
   "cell_type": "markdown",
   "metadata": {},
   "source": [
    "In this notebook, I will demonstrate the functionality of the `BinomialTree` and `Option` classes defined in `methods.binomialtree` and `methods.option` respectively. I will do this by working through exercises proposed in:\n",
    "\n",
    "**Hull, J. C. (2003).** *Options, Futures, and Other Derivatives* (2nd ed.). Prentice-Hall. Chapter 14: Numerical Methods.\n"
   ]
  },
  {
   "cell_type": "code",
   "execution_count": 1,
   "metadata": {},
   "outputs": [],
   "source": [
    "import sys\n",
    "import os\n",
    "sys.path.append(os.path.abspath(os.path.join('..')))\n",
    "\n",
    "from methods.binomialtree import BinomialTree\n",
    "from methods.option import Option, Put, Call\n",
    "from methods.node import Node"
   ]
  },
  {
   "cell_type": "markdown",
   "metadata": {},
   "source": [
    "## Ex 14.1 American Put on no-dividend asset"
   ]
  },
  {
   "cell_type": "code",
   "execution_count": 2,
   "metadata": {},
   "outputs": [],
   "source": [
    "# Time to maturity\n",
    "T = 0.4167\n",
    "# Number of timesteps\n",
    "steps = 5\n",
    "# Current asset price\n",
    "S = 50\n",
    "# Option to price\n",
    "X = 50\n",
    "option = Put(X, american=True)\n",
    "# Risk free interest rate and asset volatility (we assume these are constant up\n",
    "# to maturity). BinomialTree class can be extended so that these can be a \n",
    "# function of time.\n",
    "r = 0.10\n",
    "sigma = 0.4"
   ]
  },
  {
   "cell_type": "code",
   "execution_count": 3,
   "metadata": {},
   "outputs": [],
   "source": [
    "# Initialize and fit BinomialTree model\n",
    "american_put_tree = BinomialTree(T, steps)\n",
    "american_put_tree.fit(r=r, sigma=sigma, S=S, option=option)"
   ]
  },
  {
   "cell_type": "code",
   "execution_count": 4,
   "metadata": {},
   "outputs": [
    {
     "data": {
      "text/plain": [
       "BinomialTree\n",
       "(time 0.4167 in 5 steps)\n",
       "(r = 0.1, q = 0, sigma = 0.4)\n",
       "(S = 50, f = 4.4886)"
      ]
     },
     "execution_count": 4,
     "metadata": {},
     "output_type": "execute_result"
    }
   ],
   "source": [
    "american_put_tree"
   ]
  },
  {
   "cell_type": "code",
   "execution_count": 5,
   "metadata": {},
   "outputs": [
    {
     "name": "stdout",
     "output_type": "stream",
     "text": [
      "The computed option price for the given american put is 4.48860 dollars.\n"
     ]
    }
   ],
   "source": [
    "print(f'The computed option price for the given american put is {american_put_tree.f:.5f} dollars.')"
   ]
  },
  {
   "cell_type": "code",
   "execution_count": 6,
   "metadata": {},
   "outputs": [
    {
     "name": "stdout",
     "output_type": "stream",
     "text": [
      "                                                    (50.00, 4.49)₀₀                                                     \n",
      "                                                        /       \\                                                       \n",
      "                                            (44.55, 6.96)₁₀ (56.12, 2.16)₁₁                                             \n",
      "                                               /       \\        /       \\                                               \n",
      "                                    (39.69, 10.36)₂₀ (50.00, 3.77)₂₁ (62.99, 0.64)₂₂                                    \n",
      "                                       /       \\        /       \\        /       \\                                      \n",
      "                            (35.36, 14.64)₃₀ (44.55, 6.38)₃₁ (56.12, 1.30)₃₂ (70.70, 0.00)₃₃                            \n",
      "                              /       \\        /       \\        /       \\        /       \\                              \n",
      "                   (31.50, 18.50)₄₀ (39.69, 10.31)₄₁ (50.00, 2.66)₄₂ (62.99, 0.00)₄₃ (79.35, 0.00)₄₄                    \n",
      "                      /       \\        /       \\        /       \\        /       \\        /       \\                     \n",
      "           (28.07, 21.93)₅₀ (35.36, 14.64)₅₁ (44.55, 5.45)₅₂ (56.12, 0.00)₅₃ (70.70, 0.00)₅₄ (89.07, 0.00)₅₅            \n"
     ]
    }
   ],
   "source": [
    "# Binomial tree representation\n",
    "print(american_put_tree)"
   ]
  },
  {
   "cell_type": "markdown",
   "metadata": {},
   "source": [
    "## Ex 14.3 American Call on a Futures Contract"
   ]
  },
  {
   "cell_type": "code",
   "execution_count": 7,
   "metadata": {},
   "outputs": [],
   "source": [
    "# Time to maturity\n",
    "T = 0.3333\n",
    "# Number of timesteps\n",
    "steps = 4\n",
    "# Current asset price\n",
    "S = 300\n",
    "# Option to price\n",
    "X = 300\n",
    "option = Call(X, american=True)\n",
    "# Risk free interest rate and asset yield (set to r for Futures Contract) \n",
    "# and volatility\n",
    "r = 0.08\n",
    "q = r\n",
    "sigma = 0.4"
   ]
  },
  {
   "cell_type": "code",
   "execution_count": 8,
   "metadata": {},
   "outputs": [],
   "source": [
    "# Initialize and fit BinomialTree model\n",
    "american_call_forward_tree = BinomialTree(T, steps)\n",
    "american_call_forward_tree.fit(r=r, q=q, sigma=sigma, S=S, option=option)"
   ]
  },
  {
   "cell_type": "code",
   "execution_count": 9,
   "metadata": {},
   "outputs": [
    {
     "data": {
      "text/plain": [
       "BinomialTree\n",
       "(time 0.3333 in 4 steps)\n",
       "(r = 0.08, q = 0.08, sigma = 0.4)\n",
       "(S = 300, f = 25.5221)"
      ]
     },
     "execution_count": 9,
     "metadata": {},
     "output_type": "execute_result"
    }
   ],
   "source": [
    "american_call_forward_tree"
   ]
  },
  {
   "cell_type": "code",
   "execution_count": 10,
   "metadata": {},
   "outputs": [
    {
     "name": "stdout",
     "output_type": "stream",
     "text": [
      "The computed option price for the given american put is 25.52205 dollars.\n"
     ]
    }
   ],
   "source": [
    "print(f'The computed option price for the given american put is {american_call_forward_tree.f:.5f} dollars.')"
   ]
  },
  {
   "cell_type": "code",
   "execution_count": 11,
   "metadata": {},
   "outputs": [
    {
     "name": "stdout",
     "output_type": "stream",
     "text": [
      "                                         (300.00, 25.52)₀₀                                          \n",
      "                                              /       \\                                             \n",
      "                                 (267.29, 8.04)₁₀ (336.72, 45.50)₁₁                                 \n",
      "                                     /       \\        /       \\                                     \n",
      "                        (238.14, 0.00)₂₀ (300.00, 17.19)₂₁ (377.93, 77.93)₂₂                        \n",
      "                             /       \\        /       \\        /       \\                            \n",
      "               (212.17, 0.00)₃₀ (267.29, 0.00)₃₁ (336.72, 36.72)₃₂ (424.19, 124.19)₃₃               \n",
      "                    /       \\        /       \\        /       \\        /       \\                    \n",
      "      (189.03, 0.00)₄₀ (238.14, 0.00)₄₁ (300.00, 0.00)₄₂ (377.93, 77.93)₄₃ (476.11, 176.11)₄₄       \n"
     ]
    }
   ],
   "source": [
    "# Binomial tree representation\n",
    "print(american_call_forward_tree)"
   ]
  },
  {
   "cell_type": "code",
   "execution_count": null,
   "metadata": {},
   "outputs": [],
   "source": []
  }
 ],
 "metadata": {
  "kernelspec": {
   "display_name": "Python 3",
   "language": "python",
   "name": "python3"
  },
  "language_info": {
   "codemirror_mode": {
    "name": "ipython",
    "version": 3
   },
   "file_extension": ".py",
   "mimetype": "text/x-python",
   "name": "python",
   "nbconvert_exporter": "python",
   "pygments_lexer": "ipython3",
   "version": "3.11.1"
  }
 },
 "nbformat": 4,
 "nbformat_minor": 2
}
